{
  "nbformat": 4,
  "nbformat_minor": 0,
  "metadata": {
    "colab": {
      "provenance": [],
      "include_colab_link": true
    },
    "kernelspec": {
      "name": "python3",
      "display_name": "Python 3"
    },
    "language_info": {
      "name": "python"
    }
  },
  "cells": [
    {
      "cell_type": "markdown",
      "metadata": {
        "id": "view-in-github",
        "colab_type": "text"
      },
      "source": [
        "<a href=\"https://colab.research.google.com/github/sauravdani/Codemap/blob/main/Multimodel.ipynb\" target=\"_parent\"><img src=\"https://colab.research.google.com/assets/colab-badge.svg\" alt=\"Open In Colab\"/></a>"
      ]
    },
    {
      "cell_type": "code",
      "source": [
        "! pip install google-search-results"
      ],
      "metadata": {
        "colab": {
          "base_uri": "https://localhost:8080/"
        },
        "id": "fV9O7Pt5QBG6",
        "outputId": "fa5908c7-7a89-475c-9697-456c72eff0d6"
      },
      "execution_count": null,
      "outputs": [
        {
          "output_type": "stream",
          "name": "stdout",
          "text": [
            "Collecting google-search-results\n",
            "  Downloading google_search_results-2.4.2.tar.gz (18 kB)\n",
            "  Preparing metadata (setup.py) ... \u001b[?25l\u001b[?25hdone\n",
            "Requirement already satisfied: requests in /usr/local/lib/python3.10/dist-packages (from google-search-results) (2.32.3)\n",
            "Requirement already satisfied: charset-normalizer<4,>=2 in /usr/local/lib/python3.10/dist-packages (from requests->google-search-results) (3.3.2)\n",
            "Requirement already satisfied: idna<4,>=2.5 in /usr/local/lib/python3.10/dist-packages (from requests->google-search-results) (3.7)\n",
            "Requirement already satisfied: urllib3<3,>=1.21.1 in /usr/local/lib/python3.10/dist-packages (from requests->google-search-results) (2.0.7)\n",
            "Requirement already satisfied: certifi>=2017.4.17 in /usr/local/lib/python3.10/dist-packages (from requests->google-search-results) (2024.7.4)\n",
            "Building wheels for collected packages: google-search-results\n",
            "  Building wheel for google-search-results (setup.py) ... \u001b[?25l\u001b[?25hdone\n",
            "  Created wheel for google-search-results: filename=google_search_results-2.4.2-py3-none-any.whl size=32010 sha256=4bcc2f857b806f5673d6870c929589ec34a993eba83f77b32c15b0b4e2a76158\n",
            "  Stored in directory: /root/.cache/pip/wheels/d3/b2/c3/03302d12bb44a2cdff3c9371f31b72c0c4e84b8d2285eeac53\n",
            "Successfully built google-search-results\n",
            "Installing collected packages: google-search-results\n",
            "Successfully installed google-search-results-2.4.2\n"
          ]
        }
      ]
    },
    {
      "cell_type": "code",
      "execution_count": null,
      "metadata": {
        "id": "5LQr2easO7jF"
      },
      "outputs": [],
      "source": [
        "from serpapi import GoogleSearch\n",
        "\n",
        "params = {\n",
        "  \"engine\": \"google_maps\",\n",
        "  \"q\": \"pizza\",\n",
        "  \"ll\": \"@40.7455096,-74.0083012,15.1z\",\n",
        "  \"type\": \"search\",\n",
        "  \"api_key\": \"bc6d8a1c09a9cf011f1ba830c5a26c6289944148aeee03cac5ac4f36afa53897\"\n",
        "}\n",
        "\n",
        "search = GoogleSearch(params)\n",
        "results = search.get_dict()\n",
        "local_results = results[\"local_results\"]"
      ]
    },
    {
      "cell_type": "code",
      "source": [
        "from serpapi import GoogleSearch\n",
        "\n",
        "params = {\n",
        "  \"engine\": \"google\",\n",
        "  \"q\": \"Fresh Bagels\",\n",
        "  \"location\": \"Seattle-Tacoma, WA, Washington, United States\",\n",
        "  \"hl\": \"en\",\n",
        "  \"gl\": \"us\",\n",
        "  \"google_domain\": \"google.com\",\n",
        "  \"num\": \"10\",\n",
        "  \"start\": \"10\",\n",
        "  \"safe\": \"active\",\n",
        "  \"api_key\": \"bc6d8a1c09a9cf011f1ba830c5a26c6289944148aeee03cac5ac4f36afa53897\"\n",
        "}\n",
        "\n",
        "search = GoogleSearch(params)\n",
        "results = search.get_dict()\n",
        "organic_results = results[\"organic_results\"]"
      ],
      "metadata": {
        "id": "o4g3nlKlQXPg"
      },
      "execution_count": null,
      "outputs": []
    },
    {
      "cell_type": "code",
      "source": [
        "GoogleSearch.SERP_API_KEY = \"bc6d8a1c09a9cf011f1ba830c5a26c6289944148aeee03cac5ac4f36afa53897\""
      ],
      "metadata": {
        "id": "3WJd1eB4Q3Ks"
      },
      "execution_count": null,
      "outputs": []
    },
    {
      "cell_type": "code",
      "source": [
        "query = GoogleSearch({\"q\": \"coffee\", \"serp_api_key\": \"Your Private Key\"})"
      ],
      "metadata": {
        "id": "5iQoGyq3Q6t5"
      },
      "execution_count": null,
      "outputs": []
    },
    {
      "cell_type": "code",
      "source": [
        "from serpapi import GoogleSearch\n",
        "search = GoogleSearch({})\n",
        "location_list = search.get_location(\"Austin\", 3)\n",
        "print(location_list)"
      ],
      "metadata": {
        "colab": {
          "base_uri": "https://localhost:8080/"
        },
        "id": "rob5qPMRQ9Vu",
        "outputId": "2281a9d6-3bb5-415d-90b4-8fa97811dcab"
      },
      "execution_count": null,
      "outputs": [
        {
          "output_type": "stream",
          "name": "stdout",
          "text": [
            "[{'id': '585069b8ee19ad271e9ba949', 'google_id': 1026201, 'google_parent_id': 21176, 'name': 'Austin', 'canonical_name': 'Austin,Texas,United States', 'country_code': 'US', 'target_type': 'City', 'reach': 6440000, 'gps': [-97.7430608, 30.267153], 'keys': ['austin', 'texas', 'united', 'states']}, {'id': '584f1826914a8159dc8f4189', 'google_id': 9060225, 'google_parent_id': 21176, 'name': 'Downtown Austin', 'canonical_name': 'Downtown Austin,Texas,United States', 'country_code': 'US', 'target_type': 'Neighborhood', 'gps': [-97.74438630000002, 30.2729209], 'reach': 1180000, 'keys': ['downtown', 'austin', 'texas', 'united', 'states']}, {'id': '66826b75914a81594d5e00ea', 'google_id': 9198961, 'google_parent_id': 21176, 'name': 'East Austin', 'canonical_name': 'East Austin,Texas,United States', 'country_code': 'US', 'target_type': 'Neighborhood', 'reach': 451000, 'gps': [-97.7090635, 30.2654547], 'keys': ['east', 'austin', 'texas', 'united', 'states']}]\n"
          ]
        }
      ]
    },
    {
      "cell_type": "code",
      "source": [
        "!pip install gmplot\n",
        "!pip install ipython\n",
        "!pip install folium\n",
        "!pip install osmnx\n",
        "!pip install networkx\n",
        "!pip install Nominatim"
      ],
      "metadata": {
        "colab": {
          "base_uri": "https://localhost:8080/"
        },
        "id": "-gXRE2MvHFVM",
        "outputId": "c6b0b04c-0a13-4a5b-ce33-d7f7f92a0094"
      },
      "execution_count": null,
      "outputs": [
        {
          "output_type": "stream",
          "name": "stdout",
          "text": [
            "Collecting gmplot\n",
            "  Downloading gmplot-1.4.1-py3-none-any.whl.metadata (2.7 kB)\n",
            "Requirement already satisfied: requests in /usr/local/lib/python3.10/dist-packages (from gmplot) (2.32.3)\n",
            "Requirement already satisfied: charset-normalizer<4,>=2 in /usr/local/lib/python3.10/dist-packages (from requests->gmplot) (3.3.2)\n",
            "Requirement already satisfied: idna<4,>=2.5 in /usr/local/lib/python3.10/dist-packages (from requests->gmplot) (3.7)\n",
            "Requirement already satisfied: urllib3<3,>=1.21.1 in /usr/local/lib/python3.10/dist-packages (from requests->gmplot) (2.0.7)\n",
            "Requirement already satisfied: certifi>=2017.4.17 in /usr/local/lib/python3.10/dist-packages (from requests->gmplot) (2024.7.4)\n",
            "Downloading gmplot-1.4.1-py3-none-any.whl (164 kB)\n",
            "\u001b[?25l   \u001b[90m━━━━━━━━━━━━━━━━━━━━━━━━━━━━━━━━━━━━━━━━\u001b[0m \u001b[32m0.0/164.7 kB\u001b[0m \u001b[31m?\u001b[0m eta \u001b[36m-:--:--\u001b[0m\r\u001b[2K   \u001b[91m━━━━━━━━━━━━━━━━━\u001b[0m\u001b[90m╺\u001b[0m\u001b[90m━━━━━━━━━━━━━━━━━━━━━━\u001b[0m \u001b[32m71.7/164.7 kB\u001b[0m \u001b[31m2.3 MB/s\u001b[0m eta \u001b[36m0:00:01\u001b[0m\r\u001b[2K   \u001b[90m━━━━━━━━━━━━━━━━━━━━━━━━━━━━━━━━━━━━━━━━\u001b[0m \u001b[32m164.7/164.7 kB\u001b[0m \u001b[31m2.7 MB/s\u001b[0m eta \u001b[36m0:00:00\u001b[0m\n",
            "\u001b[?25hInstalling collected packages: gmplot\n",
            "Successfully installed gmplot-1.4.1\n",
            "Requirement already satisfied: ipython in /usr/local/lib/python3.10/dist-packages (7.34.0)\n",
            "Requirement already satisfied: setuptools>=18.5 in /usr/local/lib/python3.10/dist-packages (from ipython) (71.0.4)\n",
            "Collecting jedi>=0.16 (from ipython)\n",
            "  Using cached jedi-0.19.1-py2.py3-none-any.whl.metadata (22 kB)\n",
            "Requirement already satisfied: decorator in /usr/local/lib/python3.10/dist-packages (from ipython) (4.4.2)\n",
            "Requirement already satisfied: pickleshare in /usr/local/lib/python3.10/dist-packages (from ipython) (0.7.5)\n",
            "Requirement already satisfied: traitlets>=4.2 in /usr/local/lib/python3.10/dist-packages (from ipython) (5.7.1)\n",
            "Requirement already satisfied: prompt-toolkit!=3.0.0,!=3.0.1,<3.1.0,>=2.0.0 in /usr/local/lib/python3.10/dist-packages (from ipython) (3.0.47)\n",
            "Requirement already satisfied: pygments in /usr/local/lib/python3.10/dist-packages (from ipython) (2.16.1)\n",
            "Requirement already satisfied: backcall in /usr/local/lib/python3.10/dist-packages (from ipython) (0.2.0)\n",
            "Requirement already satisfied: matplotlib-inline in /usr/local/lib/python3.10/dist-packages (from ipython) (0.1.7)\n",
            "Requirement already satisfied: pexpect>4.3 in /usr/local/lib/python3.10/dist-packages (from ipython) (4.9.0)\n",
            "Requirement already satisfied: parso<0.9.0,>=0.8.3 in /usr/local/lib/python3.10/dist-packages (from jedi>=0.16->ipython) (0.8.4)\n",
            "Requirement already satisfied: ptyprocess>=0.5 in /usr/local/lib/python3.10/dist-packages (from pexpect>4.3->ipython) (0.7.0)\n",
            "Requirement already satisfied: wcwidth in /usr/local/lib/python3.10/dist-packages (from prompt-toolkit!=3.0.0,!=3.0.1,<3.1.0,>=2.0.0->ipython) (0.2.13)\n",
            "Using cached jedi-0.19.1-py2.py3-none-any.whl (1.6 MB)\n",
            "Installing collected packages: jedi\n",
            "Successfully installed jedi-0.19.1\n",
            "Requirement already satisfied: folium in /usr/local/lib/python3.10/dist-packages (0.17.0)\n",
            "Requirement already satisfied: branca>=0.6.0 in /usr/local/lib/python3.10/dist-packages (from folium) (0.7.2)\n",
            "Requirement already satisfied: jinja2>=2.9 in /usr/local/lib/python3.10/dist-packages (from folium) (3.1.4)\n",
            "Requirement already satisfied: numpy in /usr/local/lib/python3.10/dist-packages (from folium) (1.26.4)\n",
            "Requirement already satisfied: requests in /usr/local/lib/python3.10/dist-packages (from folium) (2.32.3)\n",
            "Requirement already satisfied: xyzservices in /usr/local/lib/python3.10/dist-packages (from folium) (2024.6.0)\n",
            "Requirement already satisfied: MarkupSafe>=2.0 in /usr/local/lib/python3.10/dist-packages (from jinja2>=2.9->folium) (2.1.5)\n",
            "Requirement already satisfied: charset-normalizer<4,>=2 in /usr/local/lib/python3.10/dist-packages (from requests->folium) (3.3.2)\n",
            "Requirement already satisfied: idna<4,>=2.5 in /usr/local/lib/python3.10/dist-packages (from requests->folium) (3.7)\n",
            "Requirement already satisfied: urllib3<3,>=1.21.1 in /usr/local/lib/python3.10/dist-packages (from requests->folium) (2.0.7)\n",
            "Requirement already satisfied: certifi>=2017.4.17 in /usr/local/lib/python3.10/dist-packages (from requests->folium) (2024.7.4)\n",
            "Collecting osmnx\n",
            "  Downloading osmnx-1.9.4-py3-none-any.whl.metadata (4.9 kB)\n",
            "Requirement already satisfied: geopandas<0.15,>=0.12 in /usr/local/lib/python3.10/dist-packages (from osmnx) (0.14.4)\n",
            "Requirement already satisfied: networkx<3.4,>=2.5 in /usr/local/lib/python3.10/dist-packages (from osmnx) (3.3)\n",
            "Requirement already satisfied: numpy<1.27,>=1.20 in /usr/local/lib/python3.10/dist-packages (from osmnx) (1.26.4)\n",
            "Requirement already satisfied: pandas<2.3,>=1.1 in /usr/local/lib/python3.10/dist-packages (from osmnx) (2.1.4)\n",
            "Requirement already satisfied: requests<2.33,>=2.27 in /usr/local/lib/python3.10/dist-packages (from osmnx) (2.32.3)\n",
            "Requirement already satisfied: shapely<2.1,>=2.0 in /usr/local/lib/python3.10/dist-packages (from osmnx) (2.0.5)\n",
            "Requirement already satisfied: fiona>=1.8.21 in /usr/local/lib/python3.10/dist-packages (from geopandas<0.15,>=0.12->osmnx) (1.9.6)\n",
            "Requirement already satisfied: packaging in /usr/local/lib/python3.10/dist-packages (from geopandas<0.15,>=0.12->osmnx) (24.1)\n",
            "Requirement already satisfied: pyproj>=3.3.0 in /usr/local/lib/python3.10/dist-packages (from geopandas<0.15,>=0.12->osmnx) (3.6.1)\n",
            "Requirement already satisfied: python-dateutil>=2.8.2 in /usr/local/lib/python3.10/dist-packages (from pandas<2.3,>=1.1->osmnx) (2.8.2)\n",
            "Requirement already satisfied: pytz>=2020.1 in /usr/local/lib/python3.10/dist-packages (from pandas<2.3,>=1.1->osmnx) (2024.1)\n",
            "Requirement already satisfied: tzdata>=2022.1 in /usr/local/lib/python3.10/dist-packages (from pandas<2.3,>=1.1->osmnx) (2024.1)\n",
            "Requirement already satisfied: charset-normalizer<4,>=2 in /usr/local/lib/python3.10/dist-packages (from requests<2.33,>=2.27->osmnx) (3.3.2)\n",
            "Requirement already satisfied: idna<4,>=2.5 in /usr/local/lib/python3.10/dist-packages (from requests<2.33,>=2.27->osmnx) (3.7)\n",
            "Requirement already satisfied: urllib3<3,>=1.21.1 in /usr/local/lib/python3.10/dist-packages (from requests<2.33,>=2.27->osmnx) (2.0.7)\n",
            "Requirement already satisfied: certifi>=2017.4.17 in /usr/local/lib/python3.10/dist-packages (from requests<2.33,>=2.27->osmnx) (2024.7.4)\n",
            "Requirement already satisfied: attrs>=19.2.0 in /usr/local/lib/python3.10/dist-packages (from fiona>=1.8.21->geopandas<0.15,>=0.12->osmnx) (24.2.0)\n",
            "Requirement already satisfied: click~=8.0 in /usr/local/lib/python3.10/dist-packages (from fiona>=1.8.21->geopandas<0.15,>=0.12->osmnx) (8.1.7)\n",
            "Requirement already satisfied: click-plugins>=1.0 in /usr/local/lib/python3.10/dist-packages (from fiona>=1.8.21->geopandas<0.15,>=0.12->osmnx) (1.1.1)\n",
            "Requirement already satisfied: cligj>=0.5 in /usr/local/lib/python3.10/dist-packages (from fiona>=1.8.21->geopandas<0.15,>=0.12->osmnx) (0.7.2)\n",
            "Requirement already satisfied: six in /usr/local/lib/python3.10/dist-packages (from fiona>=1.8.21->geopandas<0.15,>=0.12->osmnx) (1.16.0)\n",
            "Downloading osmnx-1.9.4-py3-none-any.whl (107 kB)\n",
            "\u001b[2K   \u001b[90m━━━━━━━━━━━━━━━━━━━━━━━━━━━━━━━━━━━━━━━━\u001b[0m \u001b[32m107.5/107.5 kB\u001b[0m \u001b[31m1.9 MB/s\u001b[0m eta \u001b[36m0:00:00\u001b[0m\n",
            "\u001b[?25hInstalling collected packages: osmnx\n",
            "Successfully installed osmnx-1.9.4\n",
            "Requirement already satisfied: networkx in /usr/local/lib/python3.10/dist-packages (3.3)\n",
            "Requirement already satisfied: Nominatim in /usr/local/lib/python3.10/dist-packages (0.1)\n"
          ]
        }
      ]
    },
    {
      "cell_type": "code",
      "source": [
        "#This code using Browser to print which we will not be using and It also requires API\n",
        "\n",
        "from gmplot import gmplot\n",
        "from IPython.display import IFrame\n",
        "\n",
        "locations = [\n",
        "    {'id': '585069b8ee19ad271e9ba949', 'google_id': 1026201, 'google_parent_id': 21176, 'name': 'Austin', 'canonical_name': 'Austin,Texas,United States', 'country_code': 'US', 'target_type': 'City', 'reach': 6440000, 'gps': [-97.7430608, 30.267153], 'keys': ['austin', 'texas', 'united', 'states']},\n",
        "    {'id': '584f1826914a8159dc8f4189', 'google_id': 9060225, 'google_parent_id': 21176, 'name': 'Downtown Austin', 'canonical_name': 'Downtown Austin,Texas,United States', 'country_code': 'US', 'target_type': 'Neighborhood', 'gps': [-97.74438630000002, 30.2729209], 'reach': 1180000, 'keys': ['downtown', 'austin', 'texas', 'united', 'states']},\n",
        "    {'id': '66826b75914a81594d5e00ea', 'google_id': 9198961, 'google_parent_id': 21176, 'name': 'East Austin', 'canonical_name': 'East Austin,Texas,United States', 'country_code': 'US', 'target_type': 'Neighborhood', 'reach': 451000, 'gps': [-97.7090635, 30.2654547], 'keys': ['east', 'austin', 'texas', 'united', 'states']}\n",
        "]\n",
        "\n",
        "latitudes = [location['gps'][1] for location in locations]\n",
        "longitudes = [location['gps'][0] for location in locations]\n",
        "\n",
        "#this creates google map centered to the specified location with a zoom value at last\n",
        "gmap = gmplot.GoogleMapPlotter(latitudes[0], longitudes[0], 13, '''API Key''')\n",
        "\n",
        "#this plots the line between the paths\n",
        "gmap.plot(latitudes, longitudes, 'cornflowerblue', edge_width = 3)\n",
        "\n",
        "#this stores the plot and draws it\n",
        "output_file = \"map.html\"\n",
        "gmap.draw(output_file)\n",
        "\n",
        "IFrame(output_file, width=700, height = 500)\n",
        "\n",
        "\n"
      ],
      "metadata": {
        "id": "FQaZxn6LzDek"
      },
      "execution_count": null,
      "outputs": []
    },
    {
      "cell_type": "markdown",
      "source": [
        "To Plot path we will be using foloum and osmnx library to find the shortest path using road network.\n",
        "The code we will be using gives shortest path using 'networkx. To find all paths we will use some other methods later"
      ],
      "metadata": {
        "id": "dedHDbdep-a5"
      }
    },
    {
      "cell_type": "code",
      "source": [
        "#This runes in colab but It requires gcp API calls\n",
        "\n",
        "import folium\n",
        "import osmnx as ox\n",
        "import networkx as nx\n",
        "\n",
        "locations = [\n",
        "    {'id': '585069b8ee19ad271e9ba949', 'google_id': 1026201, 'google_parent_id': 21176, 'name': 'Austin', 'canonical_name': 'Austin,Texas,United States', 'country_code': 'US', 'target_type': 'City', 'reach': 6440000, 'gps': [-97.7430608, 30.267153], 'keys': ['austin', 'texas', 'united', 'states']},\n",
        "    {'id': '584f1826914a8159dc8f4189', 'google_id': 9060225, 'google_parent_id': 21176, 'name': 'Downtown Austin', 'canonical_name': 'Downtown Austin,Texas,United States', 'country_code': 'US', 'target_type': 'Neighborhood', 'gps': [-97.74438630000002, 30.2729209], 'reach': 1180000, 'keys': ['downtown', 'austin', 'texas', 'united', 'states']},\n",
        "    {'id': '66826b75914a81594d5e00ea', 'google_id': 9198961, 'google_parent_id': 21176, 'name': 'East Austin', 'canonical_name': 'East Austin,Texas,United States', 'country_code': 'US', 'target_type': 'Neighborhood', 'reach': 451000, 'gps': [-97.7090635, 30.2654547], 'keys': ['east', 'austin', 'texas', 'united', 'states']}\n",
        "]\n",
        "\n",
        "# here the cordinates will be used insted of longitude and latitude saperately\n",
        "coordinates = [location['gps'] for location in locations]\n",
        "\n",
        "#this brings in the road netword\n",
        "G = ox.graph_from_point(coordinates[0], dist = 3000, network_type = 'drive')\n",
        "\n",
        "#this will check the road vertices nodes which are closeset to coordinatws\n",
        "nodes = [ox.nearest_nodes(G, coord[1], coord[0]) for coord in coordinates]\n",
        "\n",
        "shortest_path = []\n",
        "for i in range(len(nodes) - 1):\n",
        "  shortest_path += nx.shortest_path(G, nodes[i], nodes[i+1], weight = 'length')\n",
        "\n",
        "#Now creating the map\n",
        "m = folium.Map(location=coordinates[0], zoom_start = 13)\n",
        "\n",
        "\n",
        "\n"
      ],
      "metadata": {
        "id": "60FDIzgCp0V4"
      },
      "execution_count": null,
      "outputs": []
    },
    {
      "cell_type": "code",
      "source": [
        "# from geopy.geocoders import Nomination\n",
        "\n",
        "# #Now creating the map\n",
        "# m = folium.Map(location=coordinates[0], zoom_start = 13)\n",
        "\n",
        "# #adding routs in map\n",
        "# for i in range(len(shortest_path) - 1):\n",
        "#   point1 = G.nodes[shortest_path[i]]\n",
        "#   point2 = G.nodes[shortest_path[i + 1]]\n",
        "#   folium.PolyLine(locations=[(point1['y'], point1['x']), (point2['y'], point2['x'])], color='blue').add_to(m)\n",
        "\n",
        "# #Displaying the map\n",
        "# m\n",
        "\n",
        "'''problems in above code are the coordinate data is not matching with GPS data so changed that'''\n",
        "\n",
        "import folium\n",
        "import osmnx as ox\n",
        "import networkx as nx\n",
        "\n",
        "locations = [\n",
        "    {'id': '585069b8ee19ad271e9ba949', 'google_id': 1026201, 'google_parent_id': 21176, 'name': 'Austin', 'canonical_name': 'Austin,Texas,United States', 'country_code': 'US', 'target_type': 'City', 'reach': 6440000, 'gps': [30.267153, -97.7430608], 'keys': ['austin', 'texas', 'united', 'states']},\n",
        "    {'id': '584f1826914a8159dc8f4189', 'google_id': 9060225, 'google_parent_id': 21176, 'name': 'Downtown Austin', 'canonical_name': 'Downtown Austin,Texas,United States', 'country_code': 'US', 'target_type': 'Neighborhood', 'gps': [30.2729209, -97.74438630000002], 'reach': 1180000, 'keys': ['downtown', 'austin', 'texas', 'united', 'states']},\n",
        "    {'id': '66826b75914a81594d5e00ea', 'google_id': 9198961, 'google_parent_id': 21176, 'name': 'East Austin', 'canonical_name': 'East Austin,Texas,United States', 'country_code': 'US', 'target_type': 'Neighborhood', 'reach': 451000, 'gps': [30.2654547, -97.7090635], 'keys': ['east', 'austin', 'texas', 'united', 'states']}\n",
        "]\n",
        "\n",
        "# here the coordinates will be used instead of longitude and latitude separately\n",
        "coordinates = [location['gps'] for location in locations]\n",
        "\n",
        "# This brings in the road network around the first location\n",
        "G = ox.graph_from_point(coordinates[0], dist=3000, network_type='drive')\n",
        "\n",
        "# This will check the road vertices nodes which are closest to coordinates\n",
        "nodes = [ox.nearest_nodes(G, coord[1], coord[0]) for coord in coordinates]\n",
        "\n",
        "# Find the shortest path between consecutive nodes\n",
        "shortest_path = []\n",
        "for i in range(len(nodes) - 1):\n",
        "    shortest_path += nx.shortest_path(G, nodes[i], nodes[i+1], weight='length')\n",
        "\n",
        "# Now creating the map\n",
        "m = folium.Map(location=coordinates[0], zoom_start=13)\n",
        "\n",
        "# Adding markers for each location\n",
        "for loc in locations:\n",
        "    folium.Marker(location=loc['gps'], popup=loc['name']).add_to(m)\n",
        "\n",
        "# Adding routes to the map\n",
        "for i in range(len(shortest_path) - 1):\n",
        "    point1 = G.nodes[shortest_path[i]]\n",
        "    point2 = G.nodes[shortest_path[i + 1]]\n",
        "    folium.PolyLine(locations=[(point1['y'], point1['x']), (point2['y'], point2['x'])], color='blue').add_to(m)\n",
        "\n",
        "# Displaying the map\n",
        "m"
      ],
      "metadata": {
        "colab": {
          "base_uri": "https://localhost:8080/",
          "height": 497
        },
        "id": "4NDqVom-UTZo",
        "outputId": "501bfafc-2cea-46ad-cc00-6ba47b8224ac"
      },
      "execution_count": null,
      "outputs": [
        {
          "output_type": "stream",
          "name": "stderr",
          "text": [
            "/usr/local/lib/python3.10/dist-packages/osmnx/graph.py:191: FutureWarning: The expected order of coordinates in `bbox` will change in the v2.0.0 release to `(left, bottom, right, top)`.\n",
            "  G = graph_from_bbox(\n"
          ]
        },
        {
          "output_type": "error",
          "ename": "RuntimeError",
          "evalue": "Unable to determine UTM CRS",
          "traceback": [
            "\u001b[0;31m---------------------------------------------------------------------------\u001b[0m",
            "\u001b[0;31mIndexError\u001b[0m                                Traceback (most recent call last)",
            "\u001b[0;32m/usr/local/lib/python3.10/dist-packages/geopandas/array.py\u001b[0m in \u001b[0;36mestimate_utm_crs\u001b[0;34m(self, datum_name)\u001b[0m\n\u001b[1;32m    949\u001b[0m         \u001b[0;32mtry\u001b[0m\u001b[0;34m:\u001b[0m\u001b[0;34m\u001b[0m\u001b[0;34m\u001b[0m\u001b[0m\n\u001b[0;32m--> 950\u001b[0;31m             \u001b[0;32mreturn\u001b[0m \u001b[0mCRS\u001b[0m\u001b[0;34m.\u001b[0m\u001b[0mfrom_epsg\u001b[0m\u001b[0;34m(\u001b[0m\u001b[0mutm_crs_list\u001b[0m\u001b[0;34m[\u001b[0m\u001b[0;36m0\u001b[0m\u001b[0;34m]\u001b[0m\u001b[0;34m.\u001b[0m\u001b[0mcode\u001b[0m\u001b[0;34m)\u001b[0m\u001b[0;34m\u001b[0m\u001b[0;34m\u001b[0m\u001b[0m\n\u001b[0m\u001b[1;32m    951\u001b[0m         \u001b[0;32mexcept\u001b[0m \u001b[0mIndexError\u001b[0m\u001b[0;34m:\u001b[0m\u001b[0;34m\u001b[0m\u001b[0;34m\u001b[0m\u001b[0m\n",
            "\u001b[0;31mIndexError\u001b[0m: list index out of range",
            "\nDuring handling of the above exception, another exception occurred:\n",
            "\u001b[0;31mRuntimeError\u001b[0m                              Traceback (most recent call last)",
            "\u001b[0;32m<ipython-input-14-6d47fe507e4f>\u001b[0m in \u001b[0;36m<cell line: 73>\u001b[0;34m()\u001b[0m\n\u001b[1;32m     71\u001b[0m \u001b[0;34m\u001b[0m\u001b[0m\n\u001b[1;32m     72\u001b[0m \u001b[0;31m# Fetch the road network for the first location\u001b[0m\u001b[0;34m\u001b[0m\u001b[0;34m\u001b[0m\u001b[0m\n\u001b[0;32m---> 73\u001b[0;31m \u001b[0mG\u001b[0m \u001b[0;34m=\u001b[0m \u001b[0mox\u001b[0m\u001b[0;34m.\u001b[0m\u001b[0mgraph_from_point\u001b[0m\u001b[0;34m(\u001b[0m\u001b[0mcoordinates\u001b[0m\u001b[0;34m[\u001b[0m\u001b[0;36m0\u001b[0m\u001b[0;34m]\u001b[0m\u001b[0;34m,\u001b[0m \u001b[0mdist\u001b[0m\u001b[0;34m=\u001b[0m\u001b[0;36m3000\u001b[0m\u001b[0;34m,\u001b[0m \u001b[0mnetwork_type\u001b[0m\u001b[0;34m=\u001b[0m\u001b[0;34m'drive'\u001b[0m\u001b[0;34m)\u001b[0m\u001b[0;34m\u001b[0m\u001b[0;34m\u001b[0m\u001b[0m\n\u001b[0m\u001b[1;32m     74\u001b[0m \u001b[0;34m\u001b[0m\u001b[0m\n\u001b[1;32m     75\u001b[0m \u001b[0;31m# Find nearest nodes to the coordinates\u001b[0m\u001b[0;34m\u001b[0m\u001b[0;34m\u001b[0m\u001b[0m\n",
            "\u001b[0;32m/usr/local/lib/python3.10/dist-packages/osmnx/graph.py\u001b[0m in \u001b[0;36mgraph_from_point\u001b[0;34m(center_point, dist, dist_type, network_type, simplify, retain_all, truncate_by_edge, clean_periphery, custom_filter)\u001b[0m\n\u001b[1;32m    189\u001b[0m \u001b[0;34m\u001b[0m\u001b[0m\n\u001b[1;32m    190\u001b[0m     \u001b[0;31m# create a graph from the bounding box\u001b[0m\u001b[0;34m\u001b[0m\u001b[0;34m\u001b[0m\u001b[0m\n\u001b[0;32m--> 191\u001b[0;31m     G = graph_from_bbox(\n\u001b[0m\u001b[1;32m    192\u001b[0m         \u001b[0mbbox\u001b[0m\u001b[0;34m=\u001b[0m\u001b[0mbbox\u001b[0m\u001b[0;34m,\u001b[0m\u001b[0;34m\u001b[0m\u001b[0;34m\u001b[0m\u001b[0m\n\u001b[1;32m    193\u001b[0m         \u001b[0mnetwork_type\u001b[0m\u001b[0;34m=\u001b[0m\u001b[0mnetwork_type\u001b[0m\u001b[0;34m,\u001b[0m\u001b[0;34m\u001b[0m\u001b[0;34m\u001b[0m\u001b[0m\n",
            "\u001b[0;32m/usr/local/lib/python3.10/dist-packages/osmnx/graph.py\u001b[0m in \u001b[0;36mgraph_from_bbox\u001b[0;34m(north, south, east, west, bbox, network_type, simplify, retain_all, truncate_by_edge, clean_periphery, custom_filter)\u001b[0m\n\u001b[1;32m    110\u001b[0m \u001b[0;34m\u001b[0m\u001b[0m\n\u001b[1;32m    111\u001b[0m     \u001b[0;31m# create graph using this polygon geometry\u001b[0m\u001b[0;34m\u001b[0m\u001b[0;34m\u001b[0m\u001b[0m\n\u001b[0;32m--> 112\u001b[0;31m     G = graph_from_polygon(\n\u001b[0m\u001b[1;32m    113\u001b[0m         \u001b[0mpolygon\u001b[0m\u001b[0;34m,\u001b[0m\u001b[0;34m\u001b[0m\u001b[0;34m\u001b[0m\u001b[0m\n\u001b[1;32m    114\u001b[0m         \u001b[0mnetwork_type\u001b[0m\u001b[0;34m=\u001b[0m\u001b[0mnetwork_type\u001b[0m\u001b[0;34m,\u001b[0m\u001b[0;34m\u001b[0m\u001b[0;34m\u001b[0m\u001b[0m\n",
            "\u001b[0;32m/usr/local/lib/python3.10/dist-packages/osmnx/graph.py\u001b[0m in \u001b[0;36mgraph_from_polygon\u001b[0;34m(polygon, network_type, simplify, retain_all, truncate_by_edge, clean_periphery, custom_filter)\u001b[0m\n\u001b[1;32m    491\u001b[0m         \u001b[0;31m# create a new buffered polygon 0.5km around the desired one\u001b[0m\u001b[0;34m\u001b[0m\u001b[0;34m\u001b[0m\u001b[0m\n\u001b[1;32m    492\u001b[0m         \u001b[0mbuffer_dist\u001b[0m \u001b[0;34m=\u001b[0m \u001b[0;36m500\u001b[0m\u001b[0;34m\u001b[0m\u001b[0;34m\u001b[0m\u001b[0m\n\u001b[0;32m--> 493\u001b[0;31m         \u001b[0mpoly_proj\u001b[0m\u001b[0;34m,\u001b[0m \u001b[0mcrs_utm\u001b[0m \u001b[0;34m=\u001b[0m \u001b[0mprojection\u001b[0m\u001b[0;34m.\u001b[0m\u001b[0mproject_geometry\u001b[0m\u001b[0;34m(\u001b[0m\u001b[0mpolygon\u001b[0m\u001b[0;34m)\u001b[0m\u001b[0;34m\u001b[0m\u001b[0;34m\u001b[0m\u001b[0m\n\u001b[0m\u001b[1;32m    494\u001b[0m         \u001b[0mpoly_proj_buff\u001b[0m \u001b[0;34m=\u001b[0m \u001b[0mpoly_proj\u001b[0m\u001b[0;34m.\u001b[0m\u001b[0mbuffer\u001b[0m\u001b[0;34m(\u001b[0m\u001b[0mbuffer_dist\u001b[0m\u001b[0;34m)\u001b[0m\u001b[0;34m\u001b[0m\u001b[0;34m\u001b[0m\u001b[0m\n\u001b[1;32m    495\u001b[0m         \u001b[0mpoly_buff\u001b[0m\u001b[0;34m,\u001b[0m \u001b[0m_\u001b[0m \u001b[0;34m=\u001b[0m \u001b[0mprojection\u001b[0m\u001b[0;34m.\u001b[0m\u001b[0mproject_geometry\u001b[0m\u001b[0;34m(\u001b[0m\u001b[0mpoly_proj_buff\u001b[0m\u001b[0;34m,\u001b[0m \u001b[0mcrs\u001b[0m\u001b[0;34m=\u001b[0m\u001b[0mcrs_utm\u001b[0m\u001b[0;34m,\u001b[0m \u001b[0mto_latlong\u001b[0m\u001b[0;34m=\u001b[0m\u001b[0;32mTrue\u001b[0m\u001b[0;34m)\u001b[0m\u001b[0;34m\u001b[0m\u001b[0;34m\u001b[0m\u001b[0m\n",
            "\u001b[0;32m/usr/local/lib/python3.10/dist-packages/osmnx/projection.py\u001b[0m in \u001b[0;36mproject_geometry\u001b[0;34m(geometry, crs, to_crs, to_latlong)\u001b[0m\n\u001b[1;32m     58\u001b[0m \u001b[0;34m\u001b[0m\u001b[0m\n\u001b[1;32m     59\u001b[0m     \u001b[0mgdf\u001b[0m \u001b[0;34m=\u001b[0m \u001b[0mgpd\u001b[0m\u001b[0;34m.\u001b[0m\u001b[0mGeoDataFrame\u001b[0m\u001b[0;34m(\u001b[0m\u001b[0mgeometry\u001b[0m\u001b[0;34m=\u001b[0m\u001b[0;34m[\u001b[0m\u001b[0mgeometry\u001b[0m\u001b[0;34m]\u001b[0m\u001b[0;34m,\u001b[0m \u001b[0mcrs\u001b[0m\u001b[0;34m=\u001b[0m\u001b[0mcrs\u001b[0m\u001b[0;34m)\u001b[0m\u001b[0;34m\u001b[0m\u001b[0;34m\u001b[0m\u001b[0m\n\u001b[0;32m---> 60\u001b[0;31m     \u001b[0mgdf_proj\u001b[0m \u001b[0;34m=\u001b[0m \u001b[0mproject_gdf\u001b[0m\u001b[0;34m(\u001b[0m\u001b[0mgdf\u001b[0m\u001b[0;34m,\u001b[0m \u001b[0mto_crs\u001b[0m\u001b[0;34m=\u001b[0m\u001b[0mto_crs\u001b[0m\u001b[0;34m,\u001b[0m \u001b[0mto_latlong\u001b[0m\u001b[0;34m=\u001b[0m\u001b[0mto_latlong\u001b[0m\u001b[0;34m)\u001b[0m\u001b[0;34m\u001b[0m\u001b[0;34m\u001b[0m\u001b[0m\n\u001b[0m\u001b[1;32m     61\u001b[0m     \u001b[0mgeometry_proj\u001b[0m \u001b[0;34m=\u001b[0m \u001b[0mgdf_proj\u001b[0m\u001b[0;34m[\u001b[0m\u001b[0;34m\"geometry\"\u001b[0m\u001b[0;34m]\u001b[0m\u001b[0;34m.\u001b[0m\u001b[0miloc\u001b[0m\u001b[0;34m[\u001b[0m\u001b[0;36m0\u001b[0m\u001b[0;34m]\u001b[0m\u001b[0;34m\u001b[0m\u001b[0;34m\u001b[0m\u001b[0m\n\u001b[1;32m     62\u001b[0m     \u001b[0;32mreturn\u001b[0m \u001b[0mgeometry_proj\u001b[0m\u001b[0;34m,\u001b[0m \u001b[0mgdf_proj\u001b[0m\u001b[0;34m.\u001b[0m\u001b[0mcrs\u001b[0m\u001b[0;34m\u001b[0m\u001b[0;34m\u001b[0m\u001b[0m\n",
            "\u001b[0;32m/usr/local/lib/python3.10/dist-packages/osmnx/projection.py\u001b[0m in \u001b[0;36mproject_gdf\u001b[0;34m(gdf, to_crs, to_latlong)\u001b[0m\n\u001b[1;32m     97\u001b[0m     \u001b[0;31m# else if to_crs is None, project gdf to an appropriate UTM zone\u001b[0m\u001b[0;34m\u001b[0m\u001b[0;34m\u001b[0m\u001b[0m\n\u001b[1;32m     98\u001b[0m     \u001b[0;32melif\u001b[0m \u001b[0mto_crs\u001b[0m \u001b[0;32mis\u001b[0m \u001b[0;32mNone\u001b[0m\u001b[0;34m:\u001b[0m\u001b[0;34m\u001b[0m\u001b[0;34m\u001b[0m\u001b[0m\n\u001b[0;32m---> 99\u001b[0;31m         \u001b[0mto_crs\u001b[0m \u001b[0;34m=\u001b[0m \u001b[0mgdf\u001b[0m\u001b[0;34m.\u001b[0m\u001b[0mestimate_utm_crs\u001b[0m\u001b[0;34m(\u001b[0m\u001b[0;34m)\u001b[0m\u001b[0;34m\u001b[0m\u001b[0;34m\u001b[0m\u001b[0m\n\u001b[0m\u001b[1;32m    100\u001b[0m \u001b[0;34m\u001b[0m\u001b[0m\n\u001b[1;32m    101\u001b[0m     \u001b[0;31m# project the gdf\u001b[0m\u001b[0;34m\u001b[0m\u001b[0;34m\u001b[0m\u001b[0m\n",
            "\u001b[0;32m/usr/local/lib/python3.10/dist-packages/geopandas/geodataframe.py\u001b[0m in \u001b[0;36mestimate_utm_crs\u001b[0;34m(self, datum_name)\u001b[0m\n\u001b[1;32m   1449\u001b[0m         \u001b[0;34m-\u001b[0m \u001b[0mPrime\u001b[0m \u001b[0mMeridian\u001b[0m\u001b[0;34m:\u001b[0m \u001b[0mGreenwich\u001b[0m\u001b[0;34m\u001b[0m\u001b[0;34m\u001b[0m\u001b[0m\n\u001b[1;32m   1450\u001b[0m         \"\"\"\n\u001b[0;32m-> 1451\u001b[0;31m         \u001b[0;32mreturn\u001b[0m \u001b[0mself\u001b[0m\u001b[0;34m.\u001b[0m\u001b[0mgeometry\u001b[0m\u001b[0;34m.\u001b[0m\u001b[0mestimate_utm_crs\u001b[0m\u001b[0;34m(\u001b[0m\u001b[0mdatum_name\u001b[0m\u001b[0;34m=\u001b[0m\u001b[0mdatum_name\u001b[0m\u001b[0;34m)\u001b[0m\u001b[0;34m\u001b[0m\u001b[0;34m\u001b[0m\u001b[0m\n\u001b[0m\u001b[1;32m   1452\u001b[0m \u001b[0;34m\u001b[0m\u001b[0m\n\u001b[1;32m   1453\u001b[0m     \u001b[0;32mdef\u001b[0m \u001b[0m__getitem__\u001b[0m\u001b[0;34m(\u001b[0m\u001b[0mself\u001b[0m\u001b[0;34m,\u001b[0m \u001b[0mkey\u001b[0m\u001b[0;34m)\u001b[0m\u001b[0;34m:\u001b[0m\u001b[0;34m\u001b[0m\u001b[0;34m\u001b[0m\u001b[0m\n",
            "\u001b[0;32m/usr/local/lib/python3.10/dist-packages/geopandas/geoseries.py\u001b[0m in \u001b[0;36mestimate_utm_crs\u001b[0;34m(self, datum_name)\u001b[0m\n\u001b[1;32m   1212\u001b[0m         \u001b[0;34m-\u001b[0m \u001b[0mPrime\u001b[0m \u001b[0mMeridian\u001b[0m\u001b[0;34m:\u001b[0m \u001b[0mGreenwich\u001b[0m\u001b[0;34m\u001b[0m\u001b[0;34m\u001b[0m\u001b[0m\n\u001b[1;32m   1213\u001b[0m         \"\"\"\n\u001b[0;32m-> 1214\u001b[0;31m         \u001b[0;32mreturn\u001b[0m \u001b[0mself\u001b[0m\u001b[0;34m.\u001b[0m\u001b[0mvalues\u001b[0m\u001b[0;34m.\u001b[0m\u001b[0mestimate_utm_crs\u001b[0m\u001b[0;34m(\u001b[0m\u001b[0mdatum_name\u001b[0m\u001b[0;34m)\u001b[0m\u001b[0;34m\u001b[0m\u001b[0;34m\u001b[0m\u001b[0m\n\u001b[0m\u001b[1;32m   1215\u001b[0m \u001b[0;34m\u001b[0m\u001b[0m\n\u001b[1;32m   1216\u001b[0m     \u001b[0;32mdef\u001b[0m \u001b[0mto_json\u001b[0m\u001b[0;34m(\u001b[0m\u001b[0mself\u001b[0m\u001b[0;34m,\u001b[0m \u001b[0;34m**\u001b[0m\u001b[0mkwargs\u001b[0m\u001b[0;34m)\u001b[0m \u001b[0;34m->\u001b[0m \u001b[0mstr\u001b[0m\u001b[0;34m:\u001b[0m\u001b[0;34m\u001b[0m\u001b[0;34m\u001b[0m\u001b[0m\n",
            "\u001b[0;32m/usr/local/lib/python3.10/dist-packages/geopandas/array.py\u001b[0m in \u001b[0;36mestimate_utm_crs\u001b[0;34m(self, datum_name)\u001b[0m\n\u001b[1;32m    950\u001b[0m             \u001b[0;32mreturn\u001b[0m \u001b[0mCRS\u001b[0m\u001b[0;34m.\u001b[0m\u001b[0mfrom_epsg\u001b[0m\u001b[0;34m(\u001b[0m\u001b[0mutm_crs_list\u001b[0m\u001b[0;34m[\u001b[0m\u001b[0;36m0\u001b[0m\u001b[0;34m]\u001b[0m\u001b[0;34m.\u001b[0m\u001b[0mcode\u001b[0m\u001b[0;34m)\u001b[0m\u001b[0;34m\u001b[0m\u001b[0;34m\u001b[0m\u001b[0m\n\u001b[1;32m    951\u001b[0m         \u001b[0;32mexcept\u001b[0m \u001b[0mIndexError\u001b[0m\u001b[0;34m:\u001b[0m\u001b[0;34m\u001b[0m\u001b[0;34m\u001b[0m\u001b[0m\n\u001b[0;32m--> 952\u001b[0;31m             \u001b[0;32mraise\u001b[0m \u001b[0mRuntimeError\u001b[0m\u001b[0;34m(\u001b[0m\u001b[0;34m\"Unable to determine UTM CRS\"\u001b[0m\u001b[0;34m)\u001b[0m\u001b[0;34m\u001b[0m\u001b[0;34m\u001b[0m\u001b[0m\n\u001b[0m\u001b[1;32m    953\u001b[0m \u001b[0;34m\u001b[0m\u001b[0m\n\u001b[1;32m    954\u001b[0m     \u001b[0;31m#\u001b[0m\u001b[0;34m\u001b[0m\u001b[0;34m\u001b[0m\u001b[0m\n",
            "\u001b[0;31mRuntimeError\u001b[0m: Unable to determine UTM CRS"
          ]
        }
      ]
    }
  ]
}